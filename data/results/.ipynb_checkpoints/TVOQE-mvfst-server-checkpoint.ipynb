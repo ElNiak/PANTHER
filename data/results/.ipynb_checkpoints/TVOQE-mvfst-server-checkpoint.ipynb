{
 "cells": [
  {
   "cell_type": "code",
   "execution_count": 2,
   "metadata": {},
   "outputs": [],
   "source": [
    "import pandas as pd\n",
    "import numpy as np\n",
    "from scipy import stats\n",
    "import matplotlib.pyplot as plt\n",
    "from sklearn.tree import DecisionTreeClassifier\n",
    "from sklearn.model_selection import cross_val_score\n",
    "from sklearn import metrics #Import scikit-learn metrics module for accuracy calculation\n",
    "import math\n",
    "import matplotlib.pyplot as plt\n",
    "import seaborn as sns"
   ]
  },
  {
   "cell_type": "code",
   "execution_count": 3,
   "metadata": {},
   "outputs": [
    {
     "data": {
      "text/html": [
       "<div>\n",
       "<style scoped>\n",
       "    .dataframe tbody tr th:only-of-type {\n",
       "        vertical-align: middle;\n",
       "    }\n",
       "\n",
       "    .dataframe tbody tr th {\n",
       "        vertical-align: top;\n",
       "    }\n",
       "\n",
       "    .dataframe thead th {\n",
       "        text-align: right;\n",
       "    }\n",
       "</style>\n",
       "<table border=\"1\" class=\"dataframe\">\n",
       "  <thead>\n",
       "    <tr style=\"text-align: right;\">\n",
       "      <th></th>\n",
       "      <th>Run</th>\n",
       "      <th>Implementation</th>\n",
       "      <th>Mode</th>\n",
       "      <th>TestName</th>\n",
       "      <th>Status</th>\n",
       "      <th>ErrorIEV</th>\n",
       "      <th>OutputFile</th>\n",
       "      <th>NbPktSend</th>\n",
       "      <th>isPass</th>\n",
       "    </tr>\n",
       "  </thead>\n",
       "  <tbody>\n",
       "    <tr>\n",
       "      <th>0</th>\n",
       "      <td>0</td>\n",
       "      <td>mvfst</td>\n",
       "      <td>server</td>\n",
       "      <td>quic_server_test_version_negociation0</td>\n",
       "      <td>NaN</td>\n",
       "      <td>NaN</td>\n",
       "      <td>/home/user/Documents/QUIC-FormalVerification/r...</td>\n",
       "      <td>0.0</td>\n",
       "      <td>1.0</td>\n",
       "    </tr>\n",
       "    <tr>\n",
       "      <th>1</th>\n",
       "      <td>1</td>\n",
       "      <td>mvfst</td>\n",
       "      <td>server</td>\n",
       "      <td>quic_server_test_version_negociation0</td>\n",
       "      <td>NaN</td>\n",
       "      <td>NaN</td>\n",
       "      <td>/home/user/Documents/QUIC-FormalVerification/r...</td>\n",
       "      <td>0.0</td>\n",
       "      <td>1.0</td>\n",
       "    </tr>\n",
       "    <tr>\n",
       "      <th>2</th>\n",
       "      <td>2</td>\n",
       "      <td>mvfst</td>\n",
       "      <td>server</td>\n",
       "      <td>quic_server_test_retry0</td>\n",
       "      <td>NaN</td>\n",
       "      <td>NaN</td>\n",
       "      <td>/home/user/Documents/QUIC-FormalVerification/r...</td>\n",
       "      <td>0.0</td>\n",
       "      <td>1.0</td>\n",
       "    </tr>\n",
       "    <tr>\n",
       "      <th>3</th>\n",
       "      <td>3</td>\n",
       "      <td>mvfst</td>\n",
       "      <td>server</td>\n",
       "      <td>quic_server_test_retry0</td>\n",
       "      <td>NaN</td>\n",
       "      <td>NaN</td>\n",
       "      <td>/home/user/Documents/QUIC-FormalVerification/r...</td>\n",
       "      <td>0.0</td>\n",
       "      <td>1.0</td>\n",
       "    </tr>\n",
       "    <tr>\n",
       "      <th>4</th>\n",
       "      <td>4</td>\n",
       "      <td>mvfst</td>\n",
       "      <td>server</td>\n",
       "      <td>quic_server_test_retry0</td>\n",
       "      <td>NaN</td>\n",
       "      <td>require conn_total_data(the_cid) &gt; 0+</td>\n",
       "      <td>/home/user/Documents/QUIC-FormalVerification/r...</td>\n",
       "      <td>0.0</td>\n",
       "      <td>0.0</td>\n",
       "    </tr>\n",
       "  </tbody>\n",
       "</table>\n",
       "</div>"
      ],
      "text/plain": [
       "   Run Implementation    Mode                               TestName  Status  \\\n",
       "0    0          mvfst  server  quic_server_test_version_negociation0     NaN   \n",
       "1    1          mvfst  server  quic_server_test_version_negociation0     NaN   \n",
       "2    2          mvfst  server                quic_server_test_retry0     NaN   \n",
       "3    3          mvfst  server                quic_server_test_retry0     NaN   \n",
       "4    4          mvfst  server                quic_server_test_retry0     NaN   \n",
       "\n",
       "                                ErrorIEV  \\\n",
       "0                                    NaN   \n",
       "1                                    NaN   \n",
       "2                                    NaN   \n",
       "3                                    NaN   \n",
       "4  require conn_total_data(the_cid) > 0+   \n",
       "\n",
       "                                          OutputFile  NbPktSend  isPass  \n",
       "0  /home/user/Documents/QUIC-FormalVerification/r...        0.0     1.0  \n",
       "1  /home/user/Documents/QUIC-FormalVerification/r...        0.0     1.0  \n",
       "2  /home/user/Documents/QUIC-FormalVerification/r...        0.0     1.0  \n",
       "3  /home/user/Documents/QUIC-FormalVerification/r...        0.0     1.0  \n",
       "4  /home/user/Documents/QUIC-FormalVerification/r...        0.0     0.0  "
      ]
     },
     "execution_count": 3,
     "metadata": {},
     "output_type": "execute_result"
    }
   ],
   "source": [
    "#train_df = pd.read_csv(\"Apr-05-2021.csv\", index_col=0)\n",
    "train_df = pd.read_csv(\"mvfst-server.csv\")\n",
    "train_df.head()"
   ]
  },
  {
   "cell_type": "code",
   "execution_count": null,
   "metadata": {},
   "outputs": [],
   "source": [
    "#       ['quic_server_test_stream', 'quic_server_test_unkown',\n",
    "#       'quic_server_test_tp_limit_newcoid', 'quic_server_test_max',\n",
    "#       'quic_server_test_token_error', 'quic_server_test_tp_error',\n",
    "#       'quic_server_test_tp_acticoid_error',\n",
    "#       'quic_server_test_connection_close',\n",
    "#       'quic_server_test_reset_stream',\n",
    "#       'quic_server_test_handshake_done_error',\n",
    "#       'quic_server_test_stop_sending',\n",
    "#       'quic_server_test_double_tp_error',\n",
    "#       'quic_server_test_tp_limit_acticoid_error',\n",
    "#       'quic_server_test_no_icid', 'quic_server_test_ext_min_ack_delay']\n",
    "\n",
    "train_df = train_df[train_df.TestName != 'quic_server_test_stream']\n",
    "train_df = train_df[train_df.TestName != 'quic_server_test_unkown']\n",
    "train_df = train_df[train_df.TestName != 'quic_server_test_tp_limit_newcoid']\n",
    "train_df = train_df[train_df.TestName != 'quic_server_test_max']\n",
    "train_df = train_df[train_df.TestName != 'quic_server_test_token_error']\n",
    "train_df = train_df[train_df.TestName != 'quic_server_test_tp_error']\n",
    "train_df = train_df[train_df.TestName != 'quic_server_test_tp_acticoid_error']\n",
    "train_df = train_df[train_df.TestName != 'quic_server_test_reset_stream']\n",
    "train_df = train_df[train_df.TestName != 'quic_server_test_handshake_done_error']\n",
    "train_df = train_df[train_df.TestName != 'quic_server_test_stop_sending']\n",
    "train_df = train_df[train_df.TestName != 'quic_server_test_double_tp_error']\n",
    "train_df = train_df[train_df.TestName != 'quic_server_test_tp_limit_acticoid_error']\n",
    "train_df = train_df[train_df.TestName != 'quic_server_test_ext_min_ack_delay']\n",
    "train_df.head()"
   ]
  },
  {
   "cell_type": "code",
   "execution_count": 4,
   "metadata": {},
   "outputs": [
    {
     "name": "stdout",
     "output_type": "stream",
     "text": [
      "[]\n"
     ]
    },
    {
     "data": {
      "text/html": [
       "<div>\n",
       "<style scoped>\n",
       "    .dataframe tbody tr th:only-of-type {\n",
       "        vertical-align: middle;\n",
       "    }\n",
       "\n",
       "    .dataframe tbody tr th {\n",
       "        vertical-align: top;\n",
       "    }\n",
       "\n",
       "    .dataframe thead th {\n",
       "        text-align: right;\n",
       "    }\n",
       "</style>\n",
       "<table border=\"1\" class=\"dataframe\">\n",
       "  <thead>\n",
       "    <tr style=\"text-align: right;\">\n",
       "      <th></th>\n",
       "      <th>Run</th>\n",
       "      <th>Implementation</th>\n",
       "      <th>Mode</th>\n",
       "      <th>TestName</th>\n",
       "      <th>Status</th>\n",
       "      <th>ErrorIEV</th>\n",
       "      <th>OutputFile</th>\n",
       "      <th>NbPktSend</th>\n",
       "      <th>isPass</th>\n",
       "    </tr>\n",
       "  </thead>\n",
       "  <tbody>\n",
       "    <tr>\n",
       "      <th>0</th>\n",
       "      <td>0</td>\n",
       "      <td>mvfst</td>\n",
       "      <td>server</td>\n",
       "      <td>quic_server_test_version_negociation</td>\n",
       "      <td>NaN</td>\n",
       "      <td>NaN</td>\n",
       "      <td>/home/user/Documents/QUIC-FormalVerification/r...</td>\n",
       "      <td>0.0</td>\n",
       "      <td>1.0</td>\n",
       "    </tr>\n",
       "    <tr>\n",
       "      <th>1</th>\n",
       "      <td>1</td>\n",
       "      <td>mvfst</td>\n",
       "      <td>server</td>\n",
       "      <td>quic_server_test_version_negociation</td>\n",
       "      <td>NaN</td>\n",
       "      <td>NaN</td>\n",
       "      <td>/home/user/Documents/QUIC-FormalVerification/r...</td>\n",
       "      <td>0.0</td>\n",
       "      <td>1.0</td>\n",
       "    </tr>\n",
       "    <tr>\n",
       "      <th>2</th>\n",
       "      <td>2</td>\n",
       "      <td>mvfst</td>\n",
       "      <td>server</td>\n",
       "      <td>quic_server_test_retry</td>\n",
       "      <td>NaN</td>\n",
       "      <td>NaN</td>\n",
       "      <td>/home/user/Documents/QUIC-FormalVerification/r...</td>\n",
       "      <td>0.0</td>\n",
       "      <td>1.0</td>\n",
       "    </tr>\n",
       "    <tr>\n",
       "      <th>3</th>\n",
       "      <td>3</td>\n",
       "      <td>mvfst</td>\n",
       "      <td>server</td>\n",
       "      <td>quic_server_test_retry</td>\n",
       "      <td>NaN</td>\n",
       "      <td>NaN</td>\n",
       "      <td>/home/user/Documents/QUIC-FormalVerification/r...</td>\n",
       "      <td>0.0</td>\n",
       "      <td>1.0</td>\n",
       "    </tr>\n",
       "    <tr>\n",
       "      <th>4</th>\n",
       "      <td>4</td>\n",
       "      <td>mvfst</td>\n",
       "      <td>server</td>\n",
       "      <td>quic_server_test_retry</td>\n",
       "      <td>NaN</td>\n",
       "      <td>require conn_total_data(the_cid) &gt; 0+</td>\n",
       "      <td>/home/user/Documents/QUIC-FormalVerification/r...</td>\n",
       "      <td>0.0</td>\n",
       "      <td>0.0</td>\n",
       "    </tr>\n",
       "  </tbody>\n",
       "</table>\n",
       "</div>"
      ],
      "text/plain": [
       "   Run Implementation    Mode                              TestName  Status  \\\n",
       "0    0          mvfst  server  quic_server_test_version_negociation     NaN   \n",
       "1    1          mvfst  server  quic_server_test_version_negociation     NaN   \n",
       "2    2          mvfst  server                quic_server_test_retry     NaN   \n",
       "3    3          mvfst  server                quic_server_test_retry     NaN   \n",
       "4    4          mvfst  server                quic_server_test_retry     NaN   \n",
       "\n",
       "                                ErrorIEV  \\\n",
       "0                                    NaN   \n",
       "1                                    NaN   \n",
       "2                                    NaN   \n",
       "3                                    NaN   \n",
       "4  require conn_total_data(the_cid) > 0+   \n",
       "\n",
       "                                          OutputFile  NbPktSend  isPass  \n",
       "0  /home/user/Documents/QUIC-FormalVerification/r...        0.0     1.0  \n",
       "1  /home/user/Documents/QUIC-FormalVerification/r...        0.0     1.0  \n",
       "2  /home/user/Documents/QUIC-FormalVerification/r...        0.0     1.0  \n",
       "3  /home/user/Documents/QUIC-FormalVerification/r...        0.0     1.0  \n",
       "4  /home/user/Documents/QUIC-FormalVerification/r...        0.0     0.0  "
      ]
     },
     "execution_count": 4,
     "metadata": {},
     "output_type": "execute_result"
    }
   ],
   "source": [
    "server_name = train_df.Implementation.unique()\n",
    "servers = []\n",
    "for s in server_name:\n",
    "    if \"cargo run\" in s:\n",
    "        servers.append(\"quinn\")\n",
    "        train_df[\"Implementation\"] = train_df[\"Implementation\"].replace(s, \"quinn\")\n",
    "    if \"./http_server\" in s:\n",
    "        servers.append(\"lsquic\")\n",
    "        train_df[\"Implementation\"] = train_df[\"Implementation\"].replace(s, \"lsquic\")\n",
    "    if \"./picoquicdemo\" in s:\n",
    "        servers.append(\"picoquic\")\n",
    "        train_df[\"Implementation\"] = train_df[\"Implementation\"].replace(s, \"picoquic\")\n",
    "    if \"./server -d\" in s:\n",
    "        servers.append(\"quant\")\n",
    "        train_df[\"Implementation\"] = train_df[\"Implementation\"].replace(s, \"quant\")\n",
    "    if \"./server -c\" in s:\n",
    "        servers.append(\"quic-go\")\n",
    "        train_df[\"Implementation\"] = train_df[\"Implementation\"].replace(s, \"quic-go\")\n",
    "    if \"python3\" in s:\n",
    "        servers.append(\"aioquic\")\n",
    "        train_df[\"Implementation\"] = train_df[\"Implementation\"].replace(s, \"aioquic\")\n",
    "    if \"echo\" in s:\n",
    "        servers.append(\"mvfst\")\n",
    "        train_df[\"Implementation\"] = train_df[\"Implementation\"].replace(s, \"mvfst\")\n",
    "\n",
    "print(servers)\n",
    "train_df[\"isPass\"] = train_df[\"isPass\"].replace(0.0, 0)\n",
    "train_df[\"isPass\"] = train_df[\"isPass\"].replace(1.0, 1)\n",
    "\n",
    "for i, row in train_df.iterrows():\n",
    "    if isinstance(row[\"TestName\"], str):\n",
    "        train_df.loc[i, \"TestName\"] = row[\"TestName\"].replace(\"0\",\"\")\n",
    "    else:\n",
    "        index = row[\"OutputFile\"].find(\"q\")\n",
    "        train_df.loc[i, \"TestName\"] = row[\"OutputFile\"][index:].replace(\"0\",\"\").replace(\".iev\",\"\")\n",
    "\n",
    "train_df.head()"
   ]
  },
  {
   "cell_type": "code",
   "execution_count": 7,
   "metadata": {},
   "outputs": [
    {
     "data": {
      "text/html": [
       "<div>\n",
       "<style scoped>\n",
       "    .dataframe tbody tr th:only-of-type {\n",
       "        vertical-align: middle;\n",
       "    }\n",
       "\n",
       "    .dataframe tbody tr th {\n",
       "        vertical-align: top;\n",
       "    }\n",
       "\n",
       "    .dataframe thead th {\n",
       "        text-align: right;\n",
       "    }\n",
       "</style>\n",
       "<table border=\"1\" class=\"dataframe\">\n",
       "  <thead>\n",
       "    <tr style=\"text-align: right;\">\n",
       "      <th></th>\n",
       "      <th>Run</th>\n",
       "      <th>Implementation</th>\n",
       "      <th>Mode</th>\n",
       "      <th>TestName</th>\n",
       "      <th>Status</th>\n",
       "      <th>ErrorIEV</th>\n",
       "      <th>OutputFile</th>\n",
       "      <th>NbPktSend</th>\n",
       "      <th>isPass</th>\n",
       "    </tr>\n",
       "  </thead>\n",
       "  <tbody>\n",
       "    <tr>\n",
       "      <th>0</th>\n",
       "      <td>0</td>\n",
       "      <td>mvfst</td>\n",
       "      <td>server</td>\n",
       "      <td>quic_server_test_version_negociation</td>\n",
       "      <td>NaN</td>\n",
       "      <td>No Error</td>\n",
       "      <td>/home/user/Documents/QUIC-FormalVerification/r...</td>\n",
       "      <td>0.0</td>\n",
       "      <td>1.0</td>\n",
       "    </tr>\n",
       "    <tr>\n",
       "      <th>1</th>\n",
       "      <td>1</td>\n",
       "      <td>mvfst</td>\n",
       "      <td>server</td>\n",
       "      <td>quic_server_test_version_negociation</td>\n",
       "      <td>NaN</td>\n",
       "      <td>No Error</td>\n",
       "      <td>/home/user/Documents/QUIC-FormalVerification/r...</td>\n",
       "      <td>0.0</td>\n",
       "      <td>1.0</td>\n",
       "    </tr>\n",
       "    <tr>\n",
       "      <th>2</th>\n",
       "      <td>2</td>\n",
       "      <td>mvfst</td>\n",
       "      <td>server</td>\n",
       "      <td>quic_server_test_retry</td>\n",
       "      <td>NaN</td>\n",
       "      <td>No Error</td>\n",
       "      <td>/home/user/Documents/QUIC-FormalVerification/r...</td>\n",
       "      <td>0.0</td>\n",
       "      <td>1.0</td>\n",
       "    </tr>\n",
       "    <tr>\n",
       "      <th>3</th>\n",
       "      <td>3</td>\n",
       "      <td>mvfst</td>\n",
       "      <td>server</td>\n",
       "      <td>quic_server_test_retry</td>\n",
       "      <td>NaN</td>\n",
       "      <td>No Error</td>\n",
       "      <td>/home/user/Documents/QUIC-FormalVerification/r...</td>\n",
       "      <td>0.0</td>\n",
       "      <td>1.0</td>\n",
       "    </tr>\n",
       "    <tr>\n",
       "      <th>4</th>\n",
       "      <td>4</td>\n",
       "      <td>mvfst</td>\n",
       "      <td>server</td>\n",
       "      <td>quic_server_test_retry</td>\n",
       "      <td>NaN</td>\n",
       "      <td>Handshake not completed</td>\n",
       "      <td>/home/user/Documents/QUIC-FormalVerification/r...</td>\n",
       "      <td>0.0</td>\n",
       "      <td>0.0</td>\n",
       "    </tr>\n",
       "  </tbody>\n",
       "</table>\n",
       "</div>"
      ],
      "text/plain": [
       "   Run Implementation    Mode                              TestName  Status  \\\n",
       "0    0          mvfst  server  quic_server_test_version_negociation     NaN   \n",
       "1    1          mvfst  server  quic_server_test_version_negociation     NaN   \n",
       "2    2          mvfst  server                quic_server_test_retry     NaN   \n",
       "3    3          mvfst  server                quic_server_test_retry     NaN   \n",
       "4    4          mvfst  server                quic_server_test_retry     NaN   \n",
       "\n",
       "                  ErrorIEV                                         OutputFile  \\\n",
       "0                 No Error  /home/user/Documents/QUIC-FormalVerification/r...   \n",
       "1                 No Error  /home/user/Documents/QUIC-FormalVerification/r...   \n",
       "2                 No Error  /home/user/Documents/QUIC-FormalVerification/r...   \n",
       "3                 No Error  /home/user/Documents/QUIC-FormalVerification/r...   \n",
       "4  Handshake not completed  /home/user/Documents/QUIC-FormalVerification/r...   \n",
       "\n",
       "   NbPktSend  isPass  \n",
       "0        0.0     1.0  \n",
       "1        0.0     1.0  \n",
       "2        0.0     1.0  \n",
       "3        0.0     1.0  \n",
       "4        0.0     0.0  "
      ]
     },
     "execution_count": 7,
     "metadata": {},
     "output_type": "execute_result"
    }
   ],
   "source": [
    "for i, row in train_df.iterrows():\n",
    "    if row[\"isPass\"] == 0.0:\n",
    "        resultFile = row[\"OutputFile\"][len(\"/home/user/Documents/QUIC-FormalVerification/results/\"):]\n",
    "        f = open(resultFile, \"r\")\n",
    "        content = f.read()\n",
    "        if \"frame.connection_close:\" in content and not \"quic_server_test_connection_close\" in resultFile:\n",
    "            start_index = content.find(\"frame.conFnection_close:\")\n",
    "            end_index = content.find(\",\",start_index)\n",
    "            train_df.loc[i, \"ErrorIEV\"] = content[start_index:end_index+1].replace(\",\",\"\") + \"}\"\n",
    "        elif \"Run out of cid\" in content:\n",
    "            train_df.loc[i, \"ErrorIEV\"] = \"Run out of cid\"\n",
    "        elif \"ivy_return_code(139)\" in content :\n",
    "            train_df.loc[i, \"ErrorIEV\"] = \"Segmentation Fault 139\"\n",
    "        elif \"ivy_return_code(134)\" in content :\n",
    "            train_df.loc[i, \"ErrorIEV\"] = \"Segmentation Fault 134\"\n",
    "        elif content.count(\"tls_recv_event\") > 10:\n",
    "            train_df.loc[i, \"ErrorIEV\"] = \"Handshake not completed\"\n",
    "        elif \"timeout\" in content and \"undecryptable_packet_event\" in content:\n",
    "            train_df.loc[i, \"ErrorIEV\"] = \"Handshake not completed\" \n",
    "    else:\n",
    "        train_df.loc[i, \"ErrorIEV\"] = \"No Error\"\n",
    "\n",
    "for i, row in train_df.iterrows():\n",
    "    if row[\"isPass\"] == 0.0:\n",
    "        train_df.loc[i, \"ErrorIEV\"]  = train_df.loc[i, \"ErrorIEV\"].replace(\"\\n\",\"\").replace(\"    \",\"\")\n",
    "        \n",
    "train_df.head()"
   ]
  },
  {
   "cell_type": "code",
   "execution_count": 8,
   "metadata": {},
   "outputs": [
    {
     "data": {
      "text/plain": [
       "['No Error',\n",
       " 'Handshake not completed',\n",
       " 'require ~_generating & ~queued_non_ack(scid) -> ack_credit(scid) > 0  # [5]+',\n",
       " '}']"
      ]
     },
     "execution_count": 8,
     "metadata": {},
     "output_type": "execute_result"
    }
   ],
   "source": [
    "train_df[\"ErrorIEV\"].unique().tolist()"
   ]
  },
  {
   "cell_type": "code",
   "execution_count": 9,
   "metadata": {},
   "outputs": [
    {
     "data": {
      "text/plain": [
       "array(['quic_server_test_version_negociation', 'quic_server_test_retry'],\n",
       "      dtype=object)"
      ]
     },
     "execution_count": 9,
     "metadata": {},
     "output_type": "execute_result"
    }
   ],
   "source": [
    "train_df.TestName.unique()"
   ]
  },
  {
   "cell_type": "code",
   "execution_count": 10,
   "metadata": {},
   "outputs": [
    {
     "name": "stdout",
     "output_type": "stream",
     "text": [
      "200\n",
      "20\n",
      "10\n",
      "\n",
      "0.0% Processed\n",
      "10.0% Processed\n",
      "20.0% Processed\n",
      "30.0% Processed\n",
      "40.0% Processed\n",
      "50.0% Processed\n",
      "60.0% Processed\n",
      "70.0% Processed\n",
      "80.0% Processed\n",
      "90.0% Processed\n"
     ]
    },
    {
     "data": {
      "text/html": [
       "<div>\n",
       "<style scoped>\n",
       "    .dataframe tbody tr th:only-of-type {\n",
       "        vertical-align: middle;\n",
       "    }\n",
       "\n",
       "    .dataframe tbody tr th {\n",
       "        vertical-align: top;\n",
       "    }\n",
       "\n",
       "    .dataframe thead th {\n",
       "        text-align: right;\n",
       "    }\n",
       "</style>\n",
       "<table border=\"1\" class=\"dataframe\">\n",
       "  <thead>\n",
       "    <tr style=\"text-align: right;\">\n",
       "      <th></th>\n",
       "      <th>Run</th>\n",
       "      <th>Implementation</th>\n",
       "      <th>Mode</th>\n",
       "      <th>TestName</th>\n",
       "      <th>Status</th>\n",
       "      <th>ErrorIEV</th>\n",
       "      <th>OutputFile</th>\n",
       "      <th>NbPktSend</th>\n",
       "      <th>isPass</th>\n",
       "    </tr>\n",
       "  </thead>\n",
       "  <tbody>\n",
       "    <tr>\n",
       "      <th>0</th>\n",
       "      <td>0</td>\n",
       "      <td>mvfst</td>\n",
       "      <td>server</td>\n",
       "      <td>quic_server_test_version_negociation</td>\n",
       "      <td>NaN</td>\n",
       "      <td>No Error</td>\n",
       "      <td>/home/user/Documents/QUIC-FormalVerification/r...</td>\n",
       "      <td>47.0</td>\n",
       "      <td>1.0</td>\n",
       "    </tr>\n",
       "    <tr>\n",
       "      <th>1</th>\n",
       "      <td>1</td>\n",
       "      <td>mvfst</td>\n",
       "      <td>server</td>\n",
       "      <td>quic_server_test_version_negociation</td>\n",
       "      <td>NaN</td>\n",
       "      <td>No Error</td>\n",
       "      <td>/home/user/Documents/QUIC-FormalVerification/r...</td>\n",
       "      <td>42.0</td>\n",
       "      <td>1.0</td>\n",
       "    </tr>\n",
       "    <tr>\n",
       "      <th>2</th>\n",
       "      <td>2</td>\n",
       "      <td>mvfst</td>\n",
       "      <td>server</td>\n",
       "      <td>quic_server_test_retry</td>\n",
       "      <td>NaN</td>\n",
       "      <td>No Error</td>\n",
       "      <td>/home/user/Documents/QUIC-FormalVerification/r...</td>\n",
       "      <td>33.0</td>\n",
       "      <td>1.0</td>\n",
       "    </tr>\n",
       "    <tr>\n",
       "      <th>3</th>\n",
       "      <td>3</td>\n",
       "      <td>mvfst</td>\n",
       "      <td>server</td>\n",
       "      <td>quic_server_test_retry</td>\n",
       "      <td>NaN</td>\n",
       "      <td>No Error</td>\n",
       "      <td>/home/user/Documents/QUIC-FormalVerification/r...</td>\n",
       "      <td>35.0</td>\n",
       "      <td>1.0</td>\n",
       "    </tr>\n",
       "    <tr>\n",
       "      <th>4</th>\n",
       "      <td>4</td>\n",
       "      <td>mvfst</td>\n",
       "      <td>server</td>\n",
       "      <td>quic_server_test_retry</td>\n",
       "      <td>NaN</td>\n",
       "      <td>Handshake not completed</td>\n",
       "      <td>/home/user/Documents/QUIC-FormalVerification/r...</td>\n",
       "      <td>37.0</td>\n",
       "      <td>0.0</td>\n",
       "    </tr>\n",
       "  </tbody>\n",
       "</table>\n",
       "</div>"
      ],
      "text/plain": [
       "   Run Implementation    Mode                              TestName  Status  \\\n",
       "0    0          mvfst  server  quic_server_test_version_negociation     NaN   \n",
       "1    1          mvfst  server  quic_server_test_version_negociation     NaN   \n",
       "2    2          mvfst  server                quic_server_test_retry     NaN   \n",
       "3    3          mvfst  server                quic_server_test_retry     NaN   \n",
       "4    4          mvfst  server                quic_server_test_retry     NaN   \n",
       "\n",
       "                  ErrorIEV                                         OutputFile  \\\n",
       "0                 No Error  /home/user/Documents/QUIC-FormalVerification/r...   \n",
       "1                 No Error  /home/user/Documents/QUIC-FormalVerification/r...   \n",
       "2                 No Error  /home/user/Documents/QUIC-FormalVerification/r...   \n",
       "3                 No Error  /home/user/Documents/QUIC-FormalVerification/r...   \n",
       "4  Handshake not completed  /home/user/Documents/QUIC-FormalVerification/r...   \n",
       "\n",
       "   NbPktSend  isPass  \n",
       "0       47.0     1.0  \n",
       "1       42.0     1.0  \n",
       "2       33.0     1.0  \n",
       "3       35.0     1.0  \n",
       "4       37.0     0.0  "
      ]
     },
     "execution_count": 10,
     "metadata": {},
     "output_type": "execute_result"
    }
   ],
   "source": [
    "from scapy.all import *\n",
    "import threading\n",
    "import multiprocessing\n",
    "\n",
    "# splitting dataframe by row index \n",
    "total_rows = train_df.shape[0]\n",
    "print(total_rows)\n",
    "cnt  = 10 #multiprocessing.cpu_count()\n",
    "size = total_rows / cnt\n",
    "size = int(size)\n",
    "print(size)\n",
    "list_of_dfs = [train_df.loc[i:i+size-1,:] for i in range(0, len(train_df),size)]\n",
    "print(len(list_of_dfs))\n",
    "print()\n",
    "j = 0\n",
    "\n",
    "\n",
    "def process_pkt(df):\n",
    "    for index, row in df.iterrows():\n",
    "        outfile = row[\"OutputFile\"]\n",
    "        if \"iev\" in row[\"OutputFile\"] :\n",
    "            i = row[\"OutputFile\"][len(\"/home/user/Documents/QUIC-FormalVerification/results/mvfst-server/\"):]\n",
    "            i = i.split(\"/\")[0]\n",
    "            if isinstance(row[\"TestName\"],str) and not row[\"TestName\"] == np.nan :\n",
    "                resultFile = \"mvfst-server/\" + str(i) + \"_\" + row[\"Implementation\"] + \"_\" + str(row[\"TestName\"]) + \".pcap\"\n",
    "                #print(resultFile)\n",
    "                if os.path.isfile(resultFile):\n",
    "                    try:\n",
    "                        packets = rdpcap(resultFile)\n",
    "                        ln = len(packets)\n",
    "                        train_df.loc[index, \"NbPktSend\"] = ln\n",
    "                    except:\n",
    "                        pass\n",
    "    \n",
    "        \n",
    "for index in range(cnt):\n",
    "    process_pkt(list_of_dfs[index])\n",
    "    toPrint = (j/size) * 10\n",
    "    print(str(toPrint) + \"% Processed\")\n",
    "    train_df.to_csv(path_or_buf=\"server3_processed.csv\",index=False)\n",
    "    j += size\n",
    "    \n",
    "\n",
    "train_df.head()"
   ]
  },
  {
   "cell_type": "code",
   "execution_count": 11,
   "metadata": {},
   "outputs": [
    {
     "data": {
      "image/png": "[encoded data removed]",
      "text/plain": [
       "<Figure size 432x288 with 1 Axes>"
      ]
     },
     "metadata": {
      "needs_background": "light"
     },
     "output_type": "display_data"
    },
    {
     "data": {
      "image/png": "[encoded data removed]",
      "text/plain": [
       "<Figure size 360x360 with 1 Axes>"
      ]
     },
     "metadata": {
      "needs_background": "light"
     },
     "output_type": "display_data"
    },
    {
     "data": {
      "image/png": "[encoded data removed]",
      "text/plain": [
       "<Figure size 432x288 with 1 Axes>"
      ]
     },
     "metadata": {
      "needs_background": "light"
     },
     "output_type": "display_data"
    },
    {
     "data": {
      "image/png": "[encoded data removed]",
      "text/plain": [
       "<Figure size 360x360 with 1 Axes>"
      ]
     },
     "metadata": {
      "needs_background": "light"
     },
     "output_type": "display_data"
    }
   ],
   "source": [
    "# Failure per test\n",
    "\n",
    "train_df.TestName.unique()\n",
    "tests = train_df.TestName.unique()\n",
    "\n",
    "#plt.figure(figsize=[10,10])\n",
    "#f,a = plt.subplots(2,2)\n",
    "#a = a.ravel()\n",
    "\n",
    "for t in tests:\n",
    "    subdf = train_df.loc[train_df['TestName'] == t]\n",
    "    #subdf = subdf.loc[subdf['Implementation'] != \"quinn\"]\n",
    "    max_value = subdf[\"NbPktSend\"].max() \n",
    "    \n",
    "    plt.hist(subdf['NbPktSend'], color = 'blue', edgecolor = 'black',\n",
    "             range = [0,max_value],bins=max(int(max_value),1))\n",
    "\n",
    "    # seaborn histogram\n",
    "    sns.displot(subdf['NbPktSend'],\n",
    "                 kde=True)\n",
    "    # Add labels\n",
    "    plt.xticks(np.arange(0, int(max_value),5))\n",
    "    # positions = (0, 1)\n",
    "    # labels = (\"Fail\", \"Pass\")\n",
    "    # plt.xticks(positions, labels)\n",
    "    plt.title(\"Packets send for test \" + t)\n",
    "    plt.xlabel('Number of packet')\n",
    "    plt.ylabel('%')\n",
    "    filename = 'plot/' + \"packets_\" + t + '.png'\n",
    "    #plt.savefig(filename)\n",
    "    plt.show()"
   ]
  },
  {
   "cell_type": "code",
   "execution_count": 12,
   "metadata": {},
   "outputs": [
    {
     "data": {
      "image/png": "[encoded data removed]",
      "text/plain": [
       "<Figure size 432x288 with 1 Axes>"
      ]
     },
     "metadata": {
      "needs_background": "light"
     },
     "output_type": "display_data"
    },
    {
     "data": {
      "image/png": "[encoded data removed]",
      "text/plain": [
       "<Figure size 360x360 with 1 Axes>"
      ]
     },
     "metadata": {
      "needs_background": "light"
     },
     "output_type": "display_data"
    },
    {
     "data": {
      "image/png": "[encoded data removed]",
      "text/plain": [
       "<Figure size 432x288 with 1 Axes>"
      ]
     },
     "metadata": {
      "needs_background": "light"
     },
     "output_type": "display_data"
    },
    {
     "data": {
      "image/png": "[encoded data removed]",
      "text/plain": [
       "<Figure size 360x360 with 1 Axes>"
      ]
     },
     "metadata": {
      "needs_background": "light"
     },
     "output_type": "display_data"
    }
   ],
   "source": [
    "for t in tests:\n",
    "    subdf = train_df.loc[train_df['TestName'] == t]\n",
    "    plt.hist(subdf['isPass'], color = 'blue', edgecolor = 'black')\n",
    "\n",
    "    # seaborn histogram\n",
    "    sns.displot(subdf['isPass'], kde=False)\n",
    "    # Add labels\n",
    "    plt.title(t)\n",
    "    plt.xticks(np.arange(0, 2, 1))\n",
    "    positions = (0, 1)\n",
    "    labels = (\"Fail\", \"Pass\")\n",
    "    plt.xticks(positions, labels)\n",
    "    plt.xlabel('isPass')\n",
    "    plt.ylabel('Average Accuracy')\n",
    "    plt.show()"
   ]
  },
  {
   "cell_type": "code",
   "execution_count": 14,
   "metadata": {},
   "outputs": [
    {
     "data": {
      "image/png": "[encoded data removed]",
      "text/plain": [
       "<Figure size 432x288 with 1 Axes>"
      ]
     },
     "metadata": {
      "needs_background": "light"
     },
     "output_type": "display_data"
    },
    {
     "data": {
      "image/png": "[encoded data removed]",
      "text/plain": [
       "<Figure size 360x360 with 1 Axes>"
      ]
     },
     "metadata": {
      "needs_background": "light"
     },
     "output_type": "display_data"
    },
    {
     "data": {
      "image/png": "[encoded data removed]",
      "text/plain": [
       "<Figure size 432x288 with 1 Axes>"
      ]
     },
     "metadata": {
      "needs_background": "light"
     },
     "output_type": "display_data"
    },
    {
     "data": {
      "image/png": "[encoded data removed]",
      "text/plain": [
       "<Figure size 360x360 with 1 Axes>"
      ]
     },
     "metadata": {
      "needs_background": "light"
     },
     "output_type": "display_data"
    }
   ],
   "source": [
    "tests = train_df.TestName.unique()\n",
    "\n",
    "servers = train_df.Implementation.unique()\n",
    "#plt.figure(figsize=[10,10]) 'lsquic',\n",
    "#f,a = plt.subplots(2,2)\n",
    "#a = a.ravel()\n",
    "\n",
    "for t in tests:\n",
    "    subdf = train_df.loc[train_df['TestName'] == t]\n",
    "    for s in servers:\n",
    "        subsubdf = subdf.loc[subdf['Implementation'] == s]\n",
    "        plt.hist(subsubdf['isPass'], color = 'blue', edgecolor = 'black')\n",
    "\n",
    "        # seaborn histogram\n",
    "        sns.displot(subsubdf['isPass'], kde=False)\n",
    "        # Add labels\n",
    "        plt.xticks(np.arange(0, 1, 1))\n",
    "        positions = (0, 1)\n",
    "        labels = (\"Fail\", \"Pass\")\n",
    "        plt.xticks(positions, labels)\n",
    "        plt.title(t + \" for \" + s)\n",
    "        plt.xlabel('isPass')\n",
    "        plt.ylabel('%')\n",
    "        filename = 'plot/' + t + \"_for_\" + s + '.png'\n",
    "        #plt.savefig(filename)\n",
    "\n",
    "        plt.show()\n",
    "    "
   ]
  },
  {
   "cell_type": "code",
   "execution_count": 15,
   "metadata": {},
   "outputs": [
    {
     "name": "stdout",
     "output_type": "stream",
     "text": [
      "mvfst\n",
      "200\n",
      "106.0\n",
      "\n"
     ]
    }
   ],
   "source": [
    "for t in servers:\n",
    "    subdf = train_df.loc[train_df['Implementation'] == t]\n",
    "    \n",
    "    print(t)\n",
    "    print(len(subdf.index))\n",
    "    print(subdf[\"isPass\"].sum())\n",
    "    print()"
   ]
  },
  {
   "cell_type": "code",
   "execution_count": 16,
   "metadata": {},
   "outputs": [
    {
     "name": "stdout",
     "output_type": "stream",
     "text": [
      "mvfst\n",
      "quic_server_test_version_negociation\n",
      "100\n",
      "62.0\n",
      "\n",
      "mvfst\n",
      "quic_server_test_retry\n",
      "100\n",
      "44.0\n",
      "\n"
     ]
    }
   ],
   "source": [
    "for t in servers:\n",
    "    subdf = train_df.loc[train_df['Implementation'] == t]\n",
    "    for s in tests:\n",
    "        ssubdf = subdf.loc[subdf['TestName'] == s]\n",
    "        print(t)\n",
    "        print(s)\n",
    "        print(len(ssubdf.index))\n",
    "        print(ssubdf[\"isPass\"].sum())\n",
    "        print()"
   ]
  },
  {
   "cell_type": "code",
   "execution_count": 17,
   "metadata": {},
   "outputs": [
    {
     "name": "stderr",
     "output_type": "stream",
     "text": [
      "C:\\ProgramData\\Anaconda3\\lib\\site-packages\\ipykernel_launcher.py:20: SettingWithCopyWarning: \n",
      "A value is trying to be set on a copy of a slice from a DataFrame.\n",
      "Try using .loc[row_indexer,col_indexer] = value instead\n",
      "\n",
      "See the caveats in the documentation: http://pandas.pydata.org/pandas-docs/stable/indexing.html#indexing-view-versus-copy\n",
      "C:\\ProgramData\\Anaconda3\\lib\\site-packages\\ipykernel_launcher.py:39: UserWarning: Tight layout not applied. The bottom and top margins cannot be made large enough to accommodate all axes decorations. \n"
     ]
    },
    {
     "name": "stdout",
     "output_type": "stream",
     "text": [
      "quic_server_test_version_negociation\n",
      "mvfst\n",
      "['No Error', 'Handshake not completed', 'require ~_generating & ~queued_non_ack(scid) -> ack_credit(scid) > 0  # [5]+']\n"
     ]
    },
    {
     "data": {
      "image/png": "[encoded data removed]",
      "text/plain": [
       "<Figure size 360x360 with 1 Axes>"
      ]
     },
     "metadata": {
      "needs_background": "light"
     },
     "output_type": "display_data"
    },
    {
     "name": "stderr",
     "output_type": "stream",
     "text": [
      "C:\\ProgramData\\Anaconda3\\lib\\site-packages\\ipykernel_launcher.py:20: SettingWithCopyWarning: \n",
      "A value is trying to be set on a copy of a slice from a DataFrame.\n",
      "Try using .loc[row_indexer,col_indexer] = value instead\n",
      "\n",
      "See the caveats in the documentation: http://pandas.pydata.org/pandas-docs/stable/indexing.html#indexing-view-versus-copy\n",
      "C:\\ProgramData\\Anaconda3\\lib\\site-packages\\ipykernel_launcher.py:39: UserWarning: Tight layout not applied. The bottom and top margins cannot be made large enough to accommodate all axes decorations. \n"
     ]
    },
    {
     "name": "stdout",
     "output_type": "stream",
     "text": [
      "quic_server_test_retry\n",
      "mvfst\n",
      "['No Error', 'Handshake not completed', 'require ~_generating & ~queued_non_ack(scid) -> ack_credit(scid) > 0  # [5]+', '}']\n"
     ]
    },
    {
     "data": {
      "image/png": "[encoded data removed]",
      "text/plain": [
       "<Figure size 360x360 with 1 Axes>"
      ]
     },
     "metadata": {
      "needs_background": "light"
     },
     "output_type": "display_data"
    }
   ],
   "source": [
    "all_errors = train_df[\"ErrorIEV\"].unique().tolist()\n",
    "res = []\n",
    "for i, row in train_df.iterrows():\n",
    "    ind = all_errors.index(row[\"ErrorIEV\"])\n",
    "    res.append(ind)\n",
    "train_df[\"ErrorsCode\"] = res\n",
    "\n",
    "\n",
    "for s in servers:\n",
    "    subdf = train_df.loc[train_df['Implementation'] == s]\n",
    "    for t in tests:\n",
    "        subsubdf = subdf.loc[subdf['TestName'] == t]\n",
    "        errors = subsubdf[\"ErrorIEV\"].unique()\n",
    "        \n",
    "        all_errors = subsubdf[\"ErrorIEV\"].unique().tolist()\n",
    "        res = []\n",
    "        for i, row in subsubdf.iterrows():\n",
    "            ind = all_errors.index(row[\"ErrorIEV\"])\n",
    "            res.append(ind)\n",
    "        subsubdf[\"ErrorsCode\"] = res\n",
    "        \n",
    "        print(t)\n",
    "        print(s)\n",
    "        print(all_errors)\n",
    "        \n",
    "                \n",
    "        # seaborn histogram\n",
    "        sns.displot(x=subsubdf['ErrorsCode'],  kde=False ) #,hue=\"Implementation\"\n",
    "        # Add labels\n",
    "        plt.title(\"Errors for \" + s + \" in test \" + t)\n",
    "        plt.xticks(np.arange(0,len(all_errors)), rotation=90)  #'vertical'\n",
    "        positions = tuple(np.arange(0, len(all_errors)))\n",
    "        labels =  tuple(errors.tolist())\n",
    "        plt.xticks(positions, labels)\n",
    "        plt.xlabel('Errors')\n",
    "        plt.ylabel('Count')\n",
    "        filename = 'plot/' + \"errors_for_\" + s + \"_in_test_\" + t + '.png'\n",
    "        fig = plt.gcf()\n",
    "        plt.tight_layout()\n",
    "        #fig.set_size_inches(20,20)\n",
    "        #plt.savefig(filename, dpi=fig.dpi*2)\n",
    "        plt.show()"
   ]
  }
 ],
 "metadata": {
  "kernelspec": {
   "display_name": "Python 3",
   "language": "python",
   "name": "python3"
  },
  "language_info": {
   "codemirror_mode": {
    "name": "ipython",
    "version": 3
   },
   "file_extension": ".py",
   "mimetype": "text/x-python",
   "name": "python",
   "nbconvert_exporter": "python",
   "pygments_lexer": "ipython3",
   "version": "3.7.3"
  }
 },
 "nbformat": 4,
 "nbformat_minor": 2
}
